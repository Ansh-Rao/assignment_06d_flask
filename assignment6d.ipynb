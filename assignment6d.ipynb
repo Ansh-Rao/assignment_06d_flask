{
 "cells": [
  {
   "cell_type": "markdown",
   "id": "311b75e3-3034-4ee4-b4c5-b8bcb15f70e6",
   "metadata": {},
   "source": [
    "#### Q1. What is Flask Framework? What are the advantages of Flask Framework?"
   ]
  },
  {
   "cell_type": "code",
   "execution_count": 1,
   "id": "1d333b58-c042-4376-8755-9b2fbfad587e",
   "metadata": {},
   "outputs": [],
   "source": [
    "# Flask is classified as a microframework because it does not require particular tools or libraries. \n",
    "# It has no database abstraction layer, form validation, or any other components where pre-existing\n",
    "# third-party libraries provide common functions."
   ]
  },
  {
   "cell_type": "code",
   "execution_count": 2,
   "id": "5eeb3cb1-9f30-437c-9ce5-0e12d4726f83",
   "metadata": {},
   "outputs": [],
   "source": [
    "# Advantages of Flask Framework are :-\n",
    "\n",
    "# - It is a lightweight framework that offers hassle-free development.\n",
    "# - Provide flexibility to the developer to experiment with their modules or architecture.\n",
    "# - It is suitable for small projects.\n",
    "# - Offers a built-in development server and fast debugger.\n",
    "# - Easily scalable for the applications."
   ]
  },
  {
   "cell_type": "code",
   "execution_count": null,
   "id": "edabee63-b6f5-4748-9ffa-b7b3a92c7e75",
   "metadata": {},
   "outputs": [],
   "source": []
  },
  {
   "cell_type": "markdown",
   "id": "112bf885-800c-44b0-9a76-d61368ceb5c3",
   "metadata": {},
   "source": [
    "#### Q2. Create a simple Flask application to display ‘Hello World!!’. Attach the screenshot of the output in\n",
    "#### Jupyter Notebook."
   ]
  },
  {
   "cell_type": "code",
   "execution_count": null,
   "id": "1daad64a-7a3e-46a5-95e5-07353465ec1b",
   "metadata": {},
   "outputs": [],
   "source": [
    "from flask import Flask\n",
    "\n",
    "\n",
    "app = Flask(__name__)\n",
    "\n",
    "@app.route(\"/\")\n",
    "def hello_world():\n",
    "    return \"<h1>Hello World!!</h1>\"\n",
    "\n",
    "if __name__==\"__main__\":\n",
    "    app.run(host=\"0.0.0.0\")"
   ]
  },
  {
   "cell_type": "code",
   "execution_count": 8,
   "id": "a9e41658-8c69-4352-8d33-5a4d6e959436",
   "metadata": {},
   "outputs": [],
   "source": [
    "# url = \"https://salmon-plumber-hjrwm.pwskills.app:5000\"\n",
    "\n",
    "# output = ‘Hello World!!’"
   ]
  },
  {
   "cell_type": "code",
   "execution_count": null,
   "id": "14130d91-fe1f-438c-86eb-aacbc0213703",
   "metadata": {},
   "outputs": [],
   "source": []
  },
  {
   "cell_type": "markdown",
   "id": "1595ce6e-deb0-4882-9ab7-d11595638ad9",
   "metadata": {},
   "source": [
    "#### Q3. What is App routing in Flask? Why do we use app routes?"
   ]
  },
  {
   "cell_type": "code",
   "execution_count": 4,
   "id": "ace9e892-28c4-4ff6-92e1-e28db5c7b5d2",
   "metadata": {},
   "outputs": [],
   "source": [
    "# App routing is the technique used to map the specific URL with the associated function intended to perform some task."
   ]
  },
  {
   "cell_type": "code",
   "execution_count": 5,
   "id": "a439b6f4-a271-489e-882d-7b7ff6ab8e23",
   "metadata": {},
   "outputs": [],
   "source": [
    "# We use app routes because it is helpful to access the desired page directly without navigating from the home page.\n"
   ]
  },
  {
   "cell_type": "code",
   "execution_count": null,
   "id": "af3999d8-7293-41e8-a1c2-407d4c0eedb4",
   "metadata": {},
   "outputs": [],
   "source": []
  },
  {
   "cell_type": "markdown",
   "id": "9abbd6cc-2ee5-4423-88d8-eb3e9773d36d",
   "metadata": {},
   "source": [
    "#### Q4.  Create a “/welcome” route to display the welcome message “Welcome to ABC Corporation” and a “/”\n",
    "#### route to show the following details:\n",
    "\n",
    "####     Company Name: ABC Corporation\n",
    "\n",
    "####     Location: India\n",
    "\n",
    "####     Contact Detail: 999-999-9999 \n",
    "\n",
    "\n"
   ]
  },
  {
   "cell_type": "code",
   "execution_count": null,
   "id": "a83dbddd-1168-4696-ad46-ef5847a34e5c",
   "metadata": {},
   "outputs": [],
   "source": [
    "from flask import Flask\n",
    "\n",
    "\n",
    "app = Flask(__name__)\n",
    "\n",
    "@app.route(\"/welcome\")\n",
    "def welcome():\n",
    "    return \"<h1>Welcome to ABC Corporation</h1>\"\n",
    "\n",
    "@app.route(\"/\")\n",
    "def Company():\n",
    "    return \"<h1>Company Name: ABC Corporation </h1> \\n <h1> Location: India </h1> \\n <h1> Contact Detail: 999-999-9999</h1>\"\n",
    "\n",
    "if __name__==\"__main__\":\n",
    "    app.run(host=\"0.0.0.0\")"
   ]
  },
  {
   "cell_type": "code",
   "execution_count": 6,
   "id": "f5c76312-77a8-4080-bd06-31ab9d92f3ad",
   "metadata": {},
   "outputs": [],
   "source": [
    "# url = \"https://salmon-plumber-hjrwm.pwskills.app:5000/welcome\"\n",
    "\n",
    "# output = “Welcome to ABC Corporation”"
   ]
  },
  {
   "cell_type": "code",
   "execution_count": 7,
   "id": "b5fde4d0-38ee-4b80-838e-20fbce6e74ce",
   "metadata": {},
   "outputs": [],
   "source": [
    "# url = \"https://salmon-plumber-hjrwm.pwskills.app:5000\"\n",
    "\n",
    "# output = \" Company Name: ABC Corporation\n",
    "#            Location: India\n",
    "#            Contact Detail: 999-999-9999 \""
   ]
  },
  {
   "cell_type": "code",
   "execution_count": null,
   "id": "202322e9-5666-4b00-8ddc-b115a6e79f85",
   "metadata": {},
   "outputs": [],
   "source": []
  },
  {
   "cell_type": "markdown",
   "id": "edffe7f2-135b-4b50-ba94-0abf93bda307",
   "metadata": {},
   "source": [
    "#### Q5. What function is used in Flask for URL Building? Write a Python code to demonstrate the working of the\n",
    "#### url_for() function."
   ]
  },
  {
   "cell_type": "code",
   "execution_count": 10,
   "id": "61c07fb9-9f03-4fdc-9c46-62c53d348baf",
   "metadata": {},
   "outputs": [],
   "source": [
    "# The url_for() function is used to build a URL in Flask."
   ]
  },
  {
   "cell_type": "code",
   "execution_count": null,
   "id": "3e0d2253-3db9-4565-b651-e3ff7b6e2bbb",
   "metadata": {},
   "outputs": [],
   "source": [
    "from flask import Flask\n",
    "\n",
    "app = Flask(__name__)  \n",
    "  \n",
    "@app.route('/ios')  \n",
    "def ios():  \n",
    "    return '<h1>User Selected IOS<h1>'  \n",
    "  \n",
    "@app.route('/windows')  \n",
    "def windows():  \n",
    "    return '<h1>User Selected Windows<h1>'  \n",
    "  \n",
    "@app.route('/android')  \n",
    "def android():  \n",
    "    return '<h1>User Selected Android<h1>'  \n",
    "\n",
    "@app.route('/prod/<name>')  \n",
    "def user(name):  \n",
    "    if name == 'ios':  \n",
    "        return redirect(url_for('ios'))  \n",
    "    if name == 'windows':  \n",
    "        return redirect(url_for('windows'))  \n",
    "    if name == 'android':  \n",
    "        return redirect(url_for('android'))  \n",
    "if __name__ =='__main__':  \n",
    "    app.run(debug = True)  "
   ]
  },
  {
   "cell_type": "code",
   "execution_count": null,
   "id": "dff08462-2a73-4e8d-8384-e282df99628d",
   "metadata": {},
   "outputs": [],
   "source": []
  }
 ],
 "metadata": {
  "kernelspec": {
   "display_name": "Python 3 (ipykernel)",
   "language": "python",
   "name": "python3"
  },
  "language_info": {
   "codemirror_mode": {
    "name": "ipython",
    "version": 3
   },
   "file_extension": ".py",
   "mimetype": "text/x-python",
   "name": "python",
   "nbconvert_exporter": "python",
   "pygments_lexer": "ipython3",
   "version": "3.10.8"
  }
 },
 "nbformat": 4,
 "nbformat_minor": 5
}
